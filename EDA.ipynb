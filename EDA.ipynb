{
 "cells": [
  {
   "cell_type": "code",
   "execution_count": 1,
   "id": "54b3224c-af81-4677-ac1f-70b81a603305",
   "metadata": {},
   "outputs": [
    {
     "name": "stdout",
     "output_type": "stream",
     "text": [
      "Requirement already satisfied: folium in c:\\users\\zeore\\anaconda3\\lib\\site-packages (0.13.0)\n",
      "Requirement already satisfied: jinja2>=2.9 in c:\\users\\zeore\\anaconda3\\lib\\site-packages (from folium) (2.11.3)\n",
      "Requirement already satisfied: requests in c:\\users\\zeore\\anaconda3\\lib\\site-packages (from folium) (2.27.1)\n",
      "Requirement already satisfied: branca>=0.3.0 in c:\\users\\zeore\\anaconda3\\lib\\site-packages (from folium) (0.5.0)\n",
      "Requirement already satisfied: numpy in c:\\users\\zeore\\anaconda3\\lib\\site-packages (from folium) (1.21.5)\n",
      "Requirement already satisfied: MarkupSafe>=0.23 in c:\\users\\zeore\\anaconda3\\lib\\site-packages (from jinja2>=2.9->folium) (2.0.1)\n",
      "Requirement already satisfied: idna<4,>=2.5 in c:\\users\\zeore\\anaconda3\\lib\\site-packages (from requests->folium) (3.3)\n",
      "Requirement already satisfied: urllib3<1.27,>=1.21.1 in c:\\users\\zeore\\anaconda3\\lib\\site-packages (from requests->folium) (1.26.9)\n",
      "Requirement already satisfied: charset-normalizer~=2.0.0 in c:\\users\\zeore\\anaconda3\\lib\\site-packages (from requests->folium) (2.0.4)\n",
      "Requirement already satisfied: certifi>=2017.4.17 in c:\\users\\zeore\\anaconda3\\lib\\site-packages (from requests->folium) (2021.10.8)\n",
      "Requirement already satisfied: networkx in c:\\users\\zeore\\anaconda3\\lib\\site-packages (2.7.1)\n",
      "Requirement already satisfied: geopy in c:\\users\\zeore\\anaconda3\\lib\\site-packages (2.2.0)\n",
      "Requirement already satisfied: geographiclib<2,>=1.49 in c:\\users\\zeore\\anaconda3\\lib\\site-packages (from geopy) (1.52)\n"
     ]
    }
   ],
   "source": [
    "!pip install folium\n",
    "!pip install networkx\n",
    "!pip install geopy"
   ]
  },
  {
   "cell_type": "markdown",
   "id": "40abb923",
   "metadata": {},
   "source": [
    "#Our goal is to find the path with total distance to minimize travel involved in getting to and from the locations we want to visit. We ran our addendum through its different permutations to find the optimal ordering that would result in minimal distance travelled."
   ]
  },
  {
   "cell_type": "code",
   "execution_count": 3,
   "id": "0d9ca953",
   "metadata": {},
   "outputs": [],
   "source": [
    "import pandas as pd\n",
    "import matplotlib.pyplot as plt\n",
    "import geopy.distance\n",
    "import itertools\n",
    "import matplotlib.pyplot as plt"
   ]
  },
  {
   "cell_type": "markdown",
   "id": "19618654",
   "metadata": {},
   "source": [
    "Process data"
   ]
  },
  {
   "cell_type": "code",
   "execution_count": 12,
   "id": "70fe9bd4-027f-4a44-bc3b-8fc3116e7774",
   "metadata": {
    "scrolled": true
   },
   "outputs": [
    {
     "data": {
      "text/html": [
       "<div>\n",
       "<style scoped>\n",
       "    .dataframe tbody tr th:only-of-type {\n",
       "        vertical-align: middle;\n",
       "    }\n",
       "\n",
       "    .dataframe tbody tr th {\n",
       "        vertical-align: top;\n",
       "    }\n",
       "\n",
       "    .dataframe thead th {\n",
       "        text-align: right;\n",
       "    }\n",
       "</style>\n",
       "<table border=\"1\" class=\"dataframe\">\n",
       "  <thead>\n",
       "    <tr style=\"text-align: right;\">\n",
       "      <th></th>\n",
       "      <th>Time</th>\n",
       "      <th>Name</th>\n",
       "      <th>Address</th>\n",
       "      <th>Activity_Type</th>\n",
       "      <th>Duration</th>\n",
       "      <th>Coordinates</th>\n",
       "    </tr>\n",
       "  </thead>\n",
       "  <tbody>\n",
       "    <tr>\n",
       "      <th>0</th>\n",
       "      <td>9:00 AM</td>\n",
       "      <td>Keystone Shoppes</td>\n",
       "      <td>3435 E 86th St, Indianapolis, IN 46240</td>\n",
       "      <td>Shopping</td>\n",
       "      <td>3 hour</td>\n",
       "      <td>39.91101434587695, -86.10876563064278</td>\n",
       "    </tr>\n",
       "    <tr>\n",
       "      <th>1</th>\n",
       "      <td>12:00 PM</td>\n",
       "      <td>Indianapolis Artsgarden</td>\n",
       "      <td>110 W Washington St, Indianapolis, IN 46204</td>\n",
       "      <td>Tour</td>\n",
       "      <td>2 hour</td>\n",
       "      <td>39.76721872984057, -86.15993703493797</td>\n",
       "    </tr>\n",
       "    <tr>\n",
       "      <th>2</th>\n",
       "      <td>2:00 PM</td>\n",
       "      <td>Costco Wholesale</td>\n",
       "      <td>8816 Dr. Charles Nelson Drive, Avon, IN 46123</td>\n",
       "      <td>Shopping</td>\n",
       "      <td>1 hour</td>\n",
       "      <td>39.7648250338315, -86.36271867237686</td>\n",
       "    </tr>\n",
       "    <tr>\n",
       "      <th>3</th>\n",
       "      <td>3:00 PM</td>\n",
       "      <td>Taste of India</td>\n",
       "      <td>111 S River Rd unit b, West Lafayette, IN 47906</td>\n",
       "      <td>Lunch</td>\n",
       "      <td>1 hour</td>\n",
       "      <td>40.42173015583133, -86.90490534699592</td>\n",
       "    </tr>\n",
       "    <tr>\n",
       "      <th>4</th>\n",
       "      <td>4:00 PM</td>\n",
       "      <td>GQT Eastside 10 IMAX</td>\n",
       "      <td>300 Farabee Dr N, Lafayette, IN 47905</td>\n",
       "      <td>Movie</td>\n",
       "      <td>3 hour</td>\n",
       "      <td>40.42061898688524, -86.85216682399623</td>\n",
       "    </tr>\n",
       "    <tr>\n",
       "      <th>5</th>\n",
       "      <td>7:00 PM</td>\n",
       "      <td>Nine Irish Brothers, West Lafayette</td>\n",
       "      <td>119 Howard Ave, West Lafayette, IN 47906</td>\n",
       "      <td>Dinner</td>\n",
       "      <td>2 hour</td>\n",
       "      <td>40.42308799860641, -86.90316467426902</td>\n",
       "    </tr>\n",
       "  </tbody>\n",
       "</table>\n",
       "</div>"
      ],
      "text/plain": [
       "       Time                                 Name  \\\n",
       "0   9:00 AM                     Keystone Shoppes   \n",
       "1  12:00 PM              Indianapolis Artsgarden   \n",
       "2   2:00 PM                     Costco Wholesale   \n",
       "3   3:00 PM                       Taste of India   \n",
       "4   4:00 PM                 GQT Eastside 10 IMAX   \n",
       "5   7:00 PM  Nine Irish Brothers, West Lafayette   \n",
       "\n",
       "                                           Address Activity_Type Duration  \\\n",
       "0           3435 E 86th St, Indianapolis, IN 46240      Shopping   3 hour   \n",
       "1      110 W Washington St, Indianapolis, IN 46204          Tour   2 hour   \n",
       "2    8816 Dr. Charles Nelson Drive, Avon, IN 46123      Shopping   1 hour   \n",
       "3  111 S River Rd unit b, West Lafayette, IN 47906         Lunch   1 hour   \n",
       "4            300 Farabee Dr N, Lafayette, IN 47905         Movie   3 hour   \n",
       "5         119 Howard Ave, West Lafayette, IN 47906        Dinner   2 hour   \n",
       "\n",
       "                             Coordinates  \n",
       "0  39.91101434587695, -86.10876563064278  \n",
       "1  39.76721872984057, -86.15993703493797  \n",
       "2   39.7648250338315, -86.36271867237686  \n",
       "3  40.42173015583133, -86.90490534699592  \n",
       "4  40.42061898688524, -86.85216682399623  \n",
       "5  40.42308799860641, -86.90316467426902  "
      ]
     },
     "execution_count": 12,
     "metadata": {},
     "output_type": "execute_result"
    }
   ],
   "source": [
    "plan = pd.read_csv(\"plan.csv\")\n",
    "plan"
   ]
  },
  {
   "cell_type": "markdown",
   "id": "60cfd4e4",
   "metadata": {},
   "source": [
    "Combinations (permutations) of coordinates of different locations"
   ]
  },
  {
   "cell_type": "code",
   "execution_count": 9,
   "id": "af54bceb-02d2-4ccc-ae62-09be997fcb66",
   "metadata": {},
   "outputs": [
    {
     "name": "stdout",
     "output_type": "stream",
     "text": [
      "[['39.91101434587695', '-86.10876563064278'], ['39.76721872984057', '-86.15993703493797'], ['39.7648250338315', '-86.36271867237686'], ['40.42173015583133', '-86.90490534699592'], ['40.42061898688524', '-86.85216682399623'], ['40.42308799860641', '-86.90316467426902']]\n"
     ]
    }
   ],
   "source": [
    "coordinates = []\n",
    "for index, row in plan.iterrows():\n",
    "    pair = str(row['Coordinates']).split(\", \")\n",
    "    coordinates.append(pair)\n",
    "    # print(row['Name'], row['Coordinates'])\n",
    "print(coordinates)"
   ]
  },
  {
   "cell_type": "code",
   "execution_count": null,
   "id": "9d7449a5-999c-43f4-8d08-442723ab819e",
   "metadata": {},
   "outputs": [],
   "source": [
    "sums = {}\n",
    "for subset in itertools.permutations(coordinates, 6):\n",
    "    total = 0\n",
    "    for i in range(1, len(subset)):\n",
    "        prev_pair = coordinates[i - 1]\n",
    "        curr_pair = coordinates[i]\n",
    "        distance = geopy.distance.geodesic(prev_pair, curr_pair).km\n",
    "        total += distance\n",
    "        # print(str(distance) + \" km\")\n",
    "#     print(subset)\n",
    "    sums[str(subset)] = int(total)\n",
    "#     print(str(sum) + \" km\")\n",
    "print(sums)"
   ]
  },
  {
   "cell_type": "markdown",
   "id": "95b2538b",
   "metadata": {},
   "source": [
    "Determine the minimum total distance (in km)"
   ]
  },
  {
   "cell_type": "code",
   "execution_count": null,
   "id": "31036d4f",
   "metadata": {},
   "outputs": [],
   "source": [
    "# len(sums)\n",
    "min_key = min(sums, key=sums.get)\n",
    "min_distance = sums[min_key]\n",
    "print(min_key)\n",
    "print(str(min_distance) + \" km\")\n",
    "# keystone, artsgarden, costco, india,"
   ]
  },
  {
   "attachments": {},
   "cell_type": "markdown",
   "id": "3185fc66",
   "metadata": {},
   "source": [
    "Based on the new arrangement of the places to travel, I need to travel from Keystone Shoppes, Indianapolis Artsgarden, Costco Wholesale, Taste of India, GQT Eastside 10 IMAX, and Nine Irish Brothers, West Lafayette"
   ]
  },
  {
   "cell_type": "code",
   "execution_count": null,
   "id": "d209fe80",
   "metadata": {},
   "outputs": [],
   "source": [
    "locations = list(sums.keys())\n",
    "distances = list(sums.values())\n",
    "# print(distances[0])\n",
    "# print(distances)\n",
    "plt.bar(range(len(sums)), distances, tick_label=locations)\n",
    "plt.show()"
   ]
  }
 ],
 "metadata": {
  "kernelspec": {
   "display_name": "Python 3 (ipykernel)",
   "language": "python",
   "name": "python3"
  },
  "language_info": {
   "codemirror_mode": {
    "name": "ipython",
    "version": 3
   },
   "file_extension": ".py",
   "mimetype": "text/x-python",
   "name": "python",
   "nbconvert_exporter": "python",
   "pygments_lexer": "ipython3",
   "version": "3.9.12"
  }
 },
 "nbformat": 4,
 "nbformat_minor": 5
}
